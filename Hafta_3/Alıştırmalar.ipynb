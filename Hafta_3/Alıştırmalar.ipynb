{
 "cells": [
  {
   "cell_type": "code",
   "execution_count": null,
   "metadata": {},
   "outputs": [
    {
     "name": "stdout",
     "output_type": "stream",
     "text": [
      "100\n",
      "76\n",
      "[76, 76, 85, 85, 92, 92, 92, 100]\n",
      "[100, 76, 85, 92]\n"
     ]
    }
   ],
   "source": [
    "notlar = [85, 92, 76, 92, 100, 76, 85, 92]\n",
    "print(max(notlar))\n",
    "print(min(notlar))\n",
    "print(sorted(notlar))\n",
    "\n",
    "notlar = [85, 92, 76, 92, 100, 76, 85, 92]\n",
    "\n",
    "for eleman in notlar[:]: \n",
    "    if notlar.count(eleman) > 1:\n",
    "        notlar.remove(eleman) \n",
    "\n",
    "print(notlar)\n"
   ]
  },
  {
   "cell_type": "code",
   "execution_count": 15,
   "id": "d9972914",
   "metadata": {},
   "outputs": [
    {
     "name": "stdout",
     "output_type": "stream",
     "text": [
      "153 bir Armstrong sayısıdır.\n"
     ]
    }
   ],
   "source": [
    "#Armstrong sayısı\n",
    "sayi = int(input(\"Bir sayı girin: \"))\n",
    "basamak_sayisi = len(str(sayi))\n",
    "toplam = 0\n",
    "gecici_sayi = sayi\n",
    "while gecici_sayi > 0:\n",
    "    basamak = gecici_sayi % 10\n",
    "    toplam += basamak ** basamak_sayisi\n",
    "    gecici_sayi //= 10\n",
    "if sayi == toplam:\n",
    "    print(f\"{sayi} bir Armstrong sayısıdır.\")\n",
    "else:\n",
    "    print(f\"{sayi} bir Armstrong sayısı değildir.\")\n"
   ]
  },
  {
   "cell_type": "code",
   "execution_count": 18,
   "id": "8e7e30cb",
   "metadata": {},
   "outputs": [
    {
     "name": "stdout",
     "output_type": "stream",
     "text": [
      "{'SQL', 'Python'}\n",
      "{'R', 'Java'}\n",
      "['C++', 'Java', 'JavaScript', 'Python', 'R', 'SQL']\n"
     ]
    }
   ],
   "source": [
    "A = {\"Python\", \"R\", \"SQL\", \"Java\"} \n",
    "B = {\"C++\", \"Python\", \"JavaScript\", \"SQL\"} \n",
    "#ortak elemanlar\n",
    "ortak_elemanlar = A.intersection(B)\n",
    "print(ortak_elemanlar)\n",
    "\n",
    "#sadece A kümesinde olan elemanlar\n",
    "sadece_A = A.difference(B)\n",
    "print(sadece_A)\n",
    "\n",
    "#birleşim kümesi\n",
    "birlesim = A.union(B)\n",
    "print(sorted(birlesim))"
   ]
  },
  {
   "cell_type": "code",
   "execution_count": 20,
   "id": "9dd55ddc",
   "metadata": {},
   "outputs": [
    {
     "name": "stdout",
     "output_type": "stream",
     "text": [
      "[26, 47, 9, 30, 90, 76, 77, 41, 45, 60]\n",
      "Ortalama: 50.1\n",
      "Standart sapma: 25.553647271747508\n"
     ]
    }
   ],
   "source": [
    "#random sayilar\n",
    "import random\n",
    "import statistics as stats\n",
    "sayilar=random.sample(range(1,101),10)\n",
    "print(sayilar)\n",
    "\n",
    "print(\"Ortalama:\", stats.mean(sayilar))\n",
    "print(\"Standart sapma:\", stats.stdev(sayilar))"
   ]
  },
  {
   "cell_type": "code",
   "execution_count": 23,
   "id": "4b3f4efd",
   "metadata": {},
   "outputs": [
    {
     "name": "stdout",
     "output_type": "stream",
     "text": [
      "Metindeki kelime sayısı: 5\n",
      "En uzun kelime: alaksss\n",
      "En çok tekrar eden kelime: ala\n",
      "Tekrar sayısı: 3\n"
     ]
    }
   ],
   "source": [
    "def kelime_sayaci(metin):\n",
    "    kelimeler = metin.split()\n",
    "    kelime_sayisi = len(kelimeler)\n",
    "    print(f\"Metindeki kelime sayısı: {kelime_sayisi}\")\n",
    "    print(\"En uzun kelime:\" ,max(kelimeler, key=len))\n",
    "    \n",
    "    kelimeler = metin.lower().split()\n",
    "    sayac = {}\n",
    "\n",
    "    for kelime in kelimeler:\n",
    "        kelime = kelime.strip(\".,!?\") \n",
    "        sayac[kelime] = sayac.get(kelime, 0) + 1\n",
    "\n",
    "    # en çok tekrar eden kelimeyi bul\n",
    "    en_cok = max(sayac, key=sayac.get)\n",
    "    print(\"En çok tekrar eden kelime:\", en_cok)\n",
    "    print(\"Tekrar sayısı:\", sayac[en_cok])\n",
    "\n",
    "metin = input(\"Bir metin girin: \")\n",
    "kelime_sayaci(metin)"
   ]
  },
  {
   "cell_type": "code",
   "execution_count": 4,
   "id": "99167a19",
   "metadata": {},
   "outputs": [
    {
     "name": "stdout",
     "output_type": "stream",
     "text": [
      "[12, 18, 24, 16]\n",
      "[9, 25, 49, 144, 256, 324, 576]\n"
     ]
    }
   ],
   "source": [
    "#map,filter,sorted kulanımı\n",
    "sayilar = [5, 12, 7, 18, 24, 3, 16] \n",
    "cift=list(filter(lambda x: x%2==0,sayilar))\n",
    "print(cift)\n",
    "kareler=list(map(lambda x: x**2,sayilar))\n",
    "print(sorted(kareler))"
   ]
  },
  {
   "cell_type": "code",
   "execution_count": 5,
   "id": "d29fac5b",
   "metadata": {},
   "outputs": [
    {
     "name": "stdout",
     "output_type": "stream",
     "text": [
      "['veri', 'bilim', 'analiz', 'python', 'yapayzeka']\n"
     ]
    }
   ],
   "source": [
    "#kelime uzunluğuna göre sıralama\n",
    "kelimeler = [\"veri\", \"bilim\", \"analiz\", \"yapayzeka\", \"python\"] \n",
    "sirali=sorted(kelimeler, key=lambda x:len(x))\n",
    "print(sirali)"
   ]
  },
  {
   "cell_type": "code",
   "execution_count": 17,
   "id": "591c5d50",
   "metadata": {},
   "outputs": [
    {
     "name": "stdout",
     "output_type": "stream",
     "text": [
      "6\n"
     ]
    }
   ],
   "source": [
    "#girilen kelimedeki sayıların toplamı\n",
    "girilen=input(\"Giriniz:\")\n",
    "toplam=0\n",
    "for i in girilen:\n",
    "    if i.isdigit():\n",
    "        toplam +=int(i)  \n",
    "print(toplam)"
   ]
  },
  {
   "cell_type": "code",
   "execution_count": 15,
   "id": "98e78754",
   "metadata": {},
   "outputs": [
    {
     "name": "stdout",
     "output_type": "stream",
     "text": [
      "[12 48 31 43  3  8 17 37 19  7]\n",
      "Ortalama: 22.5\n",
      "Sapma: 15.285614151874958\n",
      "Max: 48\n"
     ]
    }
   ],
   "source": [
    "import random\n",
    "import numpy as np\n",
    "\n",
    "\n",
    "liste=random.sample(range(0,50),10)\n",
    "dizi=np.array(liste)\n",
    "print(dizi)\n",
    "\n",
    "print(\"Ortalama:\", np.mean(dizi))\n",
    "print(\"Sapma:\", np.std(dizi))\n",
    "print(\"Max:\" , np.max(dizi))"
   ]
  },
  {
   "cell_type": "code",
   "execution_count": 22,
   "id": "378e38a0",
   "metadata": {},
   "outputs": [
    {
     "name": "stdout",
     "output_type": "stream",
     "text": [
      "[[0.28244361 0.05249407 0.85099987 0.28675309 0.96706879]\n",
      " [0.89199503 0.82299071 0.35198611 0.00233336 0.13321768]\n",
      " [0.5557296  0.08407593 0.29844749 0.24131285 0.16176536]\n",
      " [0.58778016 0.27116165 0.36873876 0.11445594 0.65429967]\n",
      " [0.02859222 0.35187275 0.25636806 0.09580995 0.93160123]]\n",
      "Ortalama: [0.46930812 0.31651902 0.42530806 0.14813304 0.56959055]\n",
      "[[0 0 1 0 1]\n",
      " [1 1 0 0 0]\n",
      " [1 0 0 0 0]\n",
      " [1 0 0 0 1]\n",
      " [0 0 0 0 1]]\n"
     ]
    }
   ],
   "source": [
    "\n",
    "matris=np.random.rand(5,5)\n",
    "print(matris)\n",
    "sütun_ort=np.mean(matris,axis=0)\n",
    "print(\"Ortalama:\",sütun_ort)\n",
    "\n",
    "binary=(matris>0.5).astype(int)\n",
    "print(binary)"
   ]
  },
  {
   "cell_type": "code",
   "execution_count": null,
   "id": "b1574347",
   "metadata": {},
   "outputs": [],
   "source": []
  }
 ],
 "metadata": {
  "kernelspec": {
   "display_name": "prog2",
   "language": "python",
   "name": "python3"
  },
  "language_info": {
   "codemirror_mode": {
    "name": "ipython",
    "version": 3
   },
   "file_extension": ".py",
   "mimetype": "text/x-python",
   "name": "python",
   "nbconvert_exporter": "python",
   "pygments_lexer": "ipython3",
   "version": "3.11.11"
  }
 },
 "nbformat": 4,
 "nbformat_minor": 5
}
